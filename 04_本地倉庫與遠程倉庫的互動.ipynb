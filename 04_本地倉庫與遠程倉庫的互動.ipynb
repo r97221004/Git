{
 "cells": [
  {
   "cell_type": "markdown",
   "id": "be3eee42",
   "metadata": {},
   "source": [
    "## 設定 Repo URL"
   ]
  },
  {
   "cell_type": "raw",
   "id": "6190d643",
   "metadata": {},
   "source": [
    "1. git remote add <short name> <repo url> | 新增遠端 repository URL\n",
    "2. git remote -v | 查看設定好的 remote 資訊\n",
    "3. git remote rename <short name> <new name> | 修改 remote name\n",
    "4. git remote rm <short name> | 刪除\n",
    "# git 可以設定多組 remote\n",
    "# Repo URL 也可以是本機端其他 git project 的資料夾路徑"
   ]
  },
  {
   "cell_type": "markdown",
   "id": "f18e9f8a",
   "metadata": {},
   "source": [
    "## 上傳分支"
   ]
  },
  {
   "cell_type": "raw",
   "id": "5450f097",
   "metadata": {},
   "source": [
    "# Git 在上傳程式碼到 server 時，必須是以分支為單位\n",
    "# 本機端的分支名稱必須跟 server 上的分支名稱完全相同\n",
    "# 上傳程式碼的流程 1. 先在本機端修改 / 更新分支，然後在上傳到 server 2. "
   ]
  },
  {
   "cell_type": "code",
   "execution_count": null,
   "id": "968e67a2",
   "metadata": {},
   "outputs": [],
   "source": [
    "1. git push <remote name> <branch name> | 不需要先 checkout 到 master branch\n",
    "2. git branch -a | 查看本機端及遠端的分支\n",
    "3. git log remotes/origin/master --oneline | 我們可以用 git log 查看遠端分支的內容，但是我們不能修改他的內容"
   ]
  },
  {
   "cell_type": "raw",
   "id": "e7739f3d",
   "metadata": {},
   "source": [
    "1.  touch P0; git add -A; git commit -m 'P0'\n",
    "2   touch P1; git add -A; git commit -m 'P1'\n",
    "3.  touch P2; git add -A; git commit -m 'P2'\n",
    "4.  touch P3; git add -A; git commit -m 'P3'\n",
    "5.  touch P4; git add -A; git commit -m 'P4'\n",
    "6.  touch P5; git add -A; git commit -m 'P5'\n",
    "7.  git checkout -b BugFix\n",
    "8.  touch b1; git add -A; git commit -m 'b1'\n",
    "9.  touch b2; git add -A; git commit -m 'b2'\n",
    "10. touch b3; git add -A; git commit -m 'b3'\n",
    "11. git checkout master\n",
    "12. touch P6; git add -A; git commit -m 'P6'\n",
    "13. touch P7; git add -A; git commit -m 'P7'\n",
    "14. touch P8; git add -A; git commit -m 'P8'\n",
    "15. git checkout -b Feature\n",
    "16. touch f1; git add -A; git commit -m 'f1'\n",
    "17. touch f2; git add -A; git commit -m 'f2'\n",
    "18. touch f3; git add -A; git commit -m 'f3'\n",
    "19. git push -u origin master\n",
    "20. git branch -a\n",
    "21. git log remotes/origin/master --oneline\n",
    "22. git push origin BugFix\n",
    "23. git checkout master\n",
    "24. touch P9; git add -A; git commit -m 'P9'\n",
    "25. git push origin master"
   ]
  },
  {
   "cell_type": "markdown",
   "id": "124ef9a3",
   "metadata": {},
   "source": [
    "## 設定 Upstream"
   ]
  },
  {
   "cell_type": "raw",
   "id": "443a79d9",
   "metadata": {},
   "source": [
    "1. git push -u <remote name> <branch name> | 上傳分支，並且追蹤遠端的分支，設定好 upstream 後，第二次以後要上傳分支時，就只需要透    過 git push 就可以了，不必再帶 <remote name> 跟 <branch name> 等參數。但要先 git checkout master。\n",
    "2. 上面等同於 $ git push origin master $ git checkout master $ git branch -u origin/master\n",
    "3. git branch --unset-upstream | 取消追蹤遠端分支，但要先 git checkout master"
   ]
  },
  {
   "cell_type": "markdown",
   "id": "eaf485f6",
   "metadata": {},
   "source": [
    "## 複製 / 下載專案"
   ]
  },
  {
   "cell_type": "raw",
   "id": "0629f893",
   "metadata": {},
   "source": [
    "1. git clone <repo URL> | 使用 git clone <repo URL> 下載專案。\n",
    "2. git clone <repo URL> -b <branch name> | 指定分支。若沒有指定分支的話，git 就會使用 \"專案的預設分支\" 去建 local branch。\n",
    "3. git clone <repo URL> <folder name/path> | 下載到指定位置。如果不想要用預設檔名的話，可以自己設定資料夾名稱或是資料夾的路徑。\n",
    "4. git clone <local project> | 建立專案副本。除了可以下載 Github 的專案之外，也可以為本機端的 git project 建立專案副本。"
   ]
  },
  {
   "cell_type": "markdown",
   "id": "38942a08",
   "metadata": {},
   "source": [
    "## 同步遠端分支"
   ]
  },
  {
   "cell_type": "raw",
   "id": "3059465d",
   "metadata": {},
   "source": [
    "1. git fetch <remote name> | 更新 \"指定\" remote 底下的分支。\n",
    "2. git fetch --all | 更新 \"所有\" remote 底下的分支。\n",
    "3. git pull | 同步分支（Merge），記得現在所在那個分支是重要的。 \n",
    "#  如果沒有設定 upstream，就一定要加 <remote name> 跟 <branch name>。\n",
    "#  且要先 git checkout master。\n",
    "#  等同於 $ git fetch origin $ git checkout master $ git merge remotes/github/master。\n",
    "4. git pull --rebase | 當 git pull 遇到版本衝突的時候，預設會使用 merge 來解。加上 --rebase 參數的話，git 就會用 rebase 來解\n",
    "   conflict。\n",
    "# 等同於 $ git fetch origin $ git rebase remotes/github/master # git merge remotes/github/master。"
   ]
  },
  {
   "cell_type": "markdown",
   "id": "1b8fcd85",
   "metadata": {},
   "source": [
    "### 使用 git fetch + git merge"
   ]
  },
  {
   "cell_type": "code",
   "execution_count": null,
   "id": "795947fe",
   "metadata": {},
   "outputs": [],
   "source": [
    "1.  touch P0; git add -A; git commit -m 'P0'\n",
    "2   touch P1; git add -A; git commit -m 'P1'\n",
    "3.  touch P2; git add -A; git commit -m 'P2'\n",
    "4.  touch P3; git add -A; git commit -m 'P3'\n",
    "5.  在 github 開一個 demo 專案\n",
    "6.  git remote add origin git@github.com:r97221004/demo.git\n",
    "7.  git remote -v\n",
    "8.  git push -u origin master\n",
    "9.  git branch -a\n",
    "10. 在 github 新增一個檔案 P4\n",
    "11. touch P5; git add -A; git commit -m 'P5'  | 到目前為止還不知道遠程 master 有更新。\n",
    "12. git push | 會失敗，假設我們不曉得 server 上的 code 已經更新了，就直接使用 git push 就會被 server 拒絕。"
   ]
  },
  {
   "cell_type": "markdown",
   "id": "7207f43c",
   "metadata": {},
   "source": [
    "><img src=\".\\image\\6.png\"  style='height:500px; width:500px'>\n",
    "><img src=\".\\image\\7.png\"  style='height:500px; width:500px'>"
   ]
  },
  {
   "cell_type": "raw",
   "id": "73fd1932",
   "metadata": {},
   "source": [
    "13 git fetch origin"
   ]
  },
  {
   "cell_type": "markdown",
   "id": "b97bdd30",
   "metadata": {},
   "source": [
    "><img src=\".\\image\\8.png\"  style='height:500px; width:500px'>"
   ]
  },
  {
   "cell_type": "code",
   "execution_count": null,
   "id": "cee2b133",
   "metadata": {},
   "outputs": [],
   "source": [
    "14. git status | 看不到 remotes/origin/master 是正常的。\n",
    "15. git merge remotes/origin/master | 3 way merge"
   ]
  },
  {
   "cell_type": "markdown",
   "id": "751fabb4",
   "metadata": {},
   "source": [
    "><img src=\".\\image\\9.png\"  style='height:500px; width:500px'>"
   ]
  },
  {
   "cell_type": "code",
   "execution_count": null,
   "id": "c2a1de42",
   "metadata": {},
   "outputs": [],
   "source": [
    "16. git push \n",
    "17. git clone git@github.com:r97221004/demo.git demo1 | 在 clone 下來看看它的結構"
   ]
  },
  {
   "cell_type": "markdown",
   "id": "a191a0a5",
   "metadata": {},
   "source": [
    "><img src=\".\\image\\10.png\"  style='height:500px; width:500px'>"
   ]
  },
  {
   "cell_type": "markdown",
   "id": "029a6d22",
   "metadata": {},
   "source": [
    "### 使用 git pull"
   ]
  },
  {
   "cell_type": "code",
   "execution_count": null,
   "id": "23bed717",
   "metadata": {},
   "outputs": [],
   "source": [
    "1.  touch P0; git add -A; git commit -m 'P0'\n",
    "2   touch P1; git add -A; git commit -m 'P1'\n",
    "3.  touch P2; git add -A; git commit -m 'P2'\n",
    "4.  touch P3; git add -A; git commit -m 'P3'\n",
    "5.  在 github 開一個 demo 專案\n",
    "6.  git remote add origin git@github.com:r97221004/demo.git\n",
    "7.  git remote -v\n",
    "8.  git push -u origin master\n",
    "9.  git branch -a\n",
    "10. 在 github 新增一個檔案 P4\n",
    "11. touch P5; git add -A; git commit -m 'P5'  | 到目前為止還不知道遠程 master 有更新。\n",
    "12. git push | 會失敗，假設我們不曉得 server 上的 code 已經更新了，就直接使用 git push 就會被 server 拒絕。\n",
    "13. git pull | 注意你在哪個分支是重要的\n",
    "14. git push | 圖跟上面完全一模一樣只是換一個寫法"
   ]
  },
  {
   "cell_type": "markdown",
   "id": "ed3f727a",
   "metadata": {},
   "source": [
    "### 使用 git pull --rebase"
   ]
  },
  {
   "cell_type": "raw",
   "id": "dfa4e3d6",
   "metadata": {},
   "source": [
    "1.  touch P0; git add -A; git commit -m 'P0'\n",
    "2   touch P1; git add -A; git commit -m 'P1'\n",
    "3.  touch P2; git add -A; git commit -m 'P2'\n",
    "4.  touch P3; git add -A; git commit -m 'P3'\n",
    "5.  在 github 開一個 demo 專案\n",
    "6.  git remote add origin git@github.com:r97221004/demo.git\n",
    "7.  git remote -v\n",
    "8.  git push -u origin master\n",
    "9.  git branch -a\n",
    "10. 在 github 新增一個檔案 P4\n",
    "11. touch P5; git add -A; git commit -m 'P5'  | 到目前為止還不知道遠程 master 有更新。\n",
    "12. git push | 會失敗，假設我們不曉得 server 上的 code 已經更新了，就直接使用 git push 就會被 server 拒絕。\n",
    "13. git pull --rebase | 注意你在哪個分支是重要的\n",
    "# 等同於 $ git fetch origin $ git rebase remotes/github/master"
   ]
  },
  {
   "cell_type": "markdown",
   "id": "3db1dd08",
   "metadata": {},
   "source": [
    "><img src=\".\\image\\11.png\"  style='height:500px; width:500px'>"
   ]
  },
  {
   "cell_type": "raw",
   "id": "8f47f294",
   "metadata": {},
   "source": [
    "14. git push"
   ]
  },
  {
   "cell_type": "markdown",
   "id": "1cefa27c",
   "metadata": {},
   "source": [
    "## 強制更新遠端分支"
   ]
  },
  {
   "cell_type": "raw",
   "id": "2ecc8cfa",
   "metadata": {},
   "source": [
    "1. git push -f | 強制更新遠端分支。他可以強迫上傳，並且覆蓋掉遠端的分支。\n",
    "# 如果我們沒有設定 upstream 的話，後面還是要加 <remote name> 跟 <branch name>\n",
    "# 在是多人協同開發一個專案的時候，git push -f 是非常危險的指令，很可能會不小心把別人上傳的 code 整個覆蓋掉\n",
    "# 通常只有在單人開發，或是非常有把握的時候，才會用 git push -f 來強制更新分支"
   ]
  },
  {
   "cell_type": "code",
   "execution_count": null,
   "id": "a95fa0e0",
   "metadata": {},
   "outputs": [],
   "source": [
    "1.  touch P0; git add -A; git commit -m 'P0'\n",
    "2   touch P1; git add -A; git commit -m 'P1'\n",
    "3.  touch P2; git add -A; git commit -m 'P2'\n",
    "4.  touch P3; git add -A; git commit -m 'P3'\n",
    "5.  在 github 開一個 demo 專案\n",
    "6.  git remote add origin git@github.com:r97221004/demo.git\n",
    "7.  git remote -v\n",
    "8.  git push -u origin master\n",
    "9.  git branch -a\n",
    "10. 在 github 新增一個檔案 P4\n",
    "11. touch P5; git add -A; git commit -m 'P5'\n",
    "12. git fetch origin\n",
    "13. git push | 會失敗，假設我們不曉得 server 上的 code 已經更新了，就直接使用 git push 就會被 server 拒絕。"
   ]
  },
  {
   "cell_type": "markdown",
   "id": "32682cce",
   "metadata": {},
   "source": [
    "><img src=\".\\image\\12.png\"  style='height:500px; width:500px'>"
   ]
  },
  {
   "cell_type": "code",
   "execution_count": null,
   "id": "3a7269f8",
   "metadata": {},
   "outputs": [],
   "source": [
    "14. git push -f | 他可以強迫上傳，並且覆蓋掉遠端的分支。"
   ]
  },
  {
   "cell_type": "markdown",
   "id": "e77fe1be",
   "metadata": {},
   "source": [
    "><img src=\".\\image\\13.png\"  style='height:500px; width:500px'>"
   ]
  },
  {
   "cell_type": "markdown",
   "id": "6cee0e00",
   "metadata": {},
   "source": [
    "## 刪除遠端分支"
   ]
  },
  {
   "cell_type": "raw",
   "id": "a1da25e2",
   "metadata": {},
   "source": [
    "1. git push <remote name> :<branch name> | 刪除遠端分支。這裡一樣是用 git push，只要在分支名稱的前面多加一個 :（冒號）。\n",
    "# 等同於 git push <remote name> -d <branch name>"
   ]
  },
  {
   "cell_type": "raw",
   "id": "eb7d5bca",
   "metadata": {},
   "source": [
    "1.  touch P0; git add -A; git commit -m 'P0'\n",
    "2   touch P1; git add -A; git commit -m 'P1'\n",
    "3.  touch P2; git add -A; git commit -m 'P2'\n",
    "4.  touch P3; git add -A; git commit -m 'P3'\n",
    "5.  touch P4; git add -A; git commit -m 'P4'\n",
    "6.  touch P5; git add -A; git commit -m 'P5'\n",
    "7.  git checkout -b BugFix\n",
    "8.  touch b1; git add -A; git commit -m 'b1'\n",
    "9.  touch b2; git add -A; git commit -m 'b2'\n",
    "10. touch b3; git add -A; git commit -m 'b3'\n",
    "11. git checkout master\n",
    "12. touch P6; git add -A; git commit -m 'P6'\n",
    "13. git remote add origin git@github.com:r97221004/demo.git\n",
    "14. git push -u origin master\n",
    "15. git push -u origin BugFix\n",
    "16. git push origin :BugFix | github 上的 BugFix 就會被刪除了。"
   ]
  },
  {
   "cell_type": "markdown",
   "id": "2354d045",
   "metadata": {},
   "source": [
    "## 使用 Github 網頁介面刪除分支"
   ]
  },
  {
   "cell_type": "raw",
   "id": "47b93fe7",
   "metadata": {},
   "source": [
    "# 在我們刪除完 bugFix 分支之後，我們查看我們本機端的狀況，發現 remotes/github/bugFix 並沒有消失。\n",
    "# 即使我們用了 git remote update 之後，結果還是一樣，本機端的分支依舊無法跟遠端同步。\n",
    "1. git remote show <remote name> | 查看更多關於 remote 的資訊。"
   ]
  },
  {
   "cell_type": "markdown",
   "id": "6c9ba68c",
   "metadata": {},
   "source": [
    "><img src=\".\\image\\14.png\"  style='height:500px; width:500px'>"
   ]
  },
  {
   "cell_type": "raw",
   "id": "4fd02ee1",
   "metadata": {},
   "source": [
    "2. git remote prune <remote name> | 刪除 remote 底下所有過時的分支。\n",
    "# 等同於 $ git fetch -p \n",
    "3. git remote update -p | 同步遠端分支，並且移除過時的遠端分支。\n",
    "# 等同於 git fetch --all -p "
   ]
  },
  {
   "cell_type": "raw",
   "id": "a30b4d19",
   "metadata": {},
   "source": [
    "# 注意，在遠端新增的分支，反而也是只要 git fetch origin 就會出現了，不需要像刪除一樣。"
   ]
  },
  {
   "cell_type": "markdown",
   "id": "e566e210",
   "metadata": {},
   "source": [
    "## 詳解 git pull"
   ]
  },
  {
   "cell_type": "raw",
   "id": "d7942852",
   "metadata": {},
   "source": [
    "1. 在 github 開一個 demo 專案\n",
    "2. 在 master 分支新增檔案 P0\n",
    "3. 在 master 分支新增檔案 P1\n",
    "4. 在 master 分支新增檔案 P2\n",
    "5. 開一個新的分支 dev\n",
    "6. 在 dev 分支新增檔案 d1\n",
    "7. 在 dev 分支新增檔案 d2\n",
    "8. git clone git@github.com:r97221004/demo.git demo1"
   ]
  },
  {
   "cell_type": "markdown",
   "id": "69f853b5",
   "metadata": {},
   "source": [
    "><img src=\".\\image\\15.png\"  style='height:500px; width:500px'>"
   ]
  },
  {
   "cell_type": "raw",
   "id": "be8d0983",
   "metadata": {},
   "source": [
    "9. 在 dev 分支新增檔案 d3\n",
    "10. git branch -v\n",
    "11. git checkout dev\n",
    "12. git status\n",
    "13. git remote show origin\n",
    "14. git branch -vv\n",
    "15. git pull  | 更新 dev，要在 dev 的分支上\n",
    "16. git reset --hard ORIG_HEAD  | 回滾"
   ]
  },
  {
   "cell_type": "markdown",
   "id": "c5481288",
   "metadata": {},
   "source": [
    "## 帶衝突的 git pull演示"
   ]
  },
  {
   "cell_type": "raw",
   "id": "c6827dc4",
   "metadata": {},
   "source": [
    "1. 在 github 開一個 demo 專案\n",
    "2. 在 master 分支新增檔案 P0\n",
    "3. 在 master 分支新增檔案 P1\n",
    "4. 在 master 分支新增檔案 P2\n",
    "5. 在 github 上修改 P2\n",
    "6. 在本地修改 P2 在 commit 一個版本\n",
    "7. git pull -v  | -v 會有更詳細的資訊\n",
    "8. git status\n",
    "9. code . | 解衝突\n",
    "10 git add -A \n",
    "11 git commit | 產生 merge patch"
   ]
  }
 ],
 "metadata": {
  "kernelspec": {
   "display_name": "Python 3",
   "language": "python",
   "name": "python3"
  },
  "language_info": {
   "codemirror_mode": {
    "name": "ipython",
    "version": 3
   },
   "file_extension": ".py",
   "mimetype": "text/x-python",
   "name": "python",
   "nbconvert_exporter": "python",
   "pygments_lexer": "ipython3",
   "version": "3.8.10"
  }
 },
 "nbformat": 4,
 "nbformat_minor": 5
}
