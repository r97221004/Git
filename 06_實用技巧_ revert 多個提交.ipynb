{
 "cells": [
  {
   "cell_type": "markdown",
   "id": "4d94376d",
   "metadata": {},
   "source": [
    "# 不刪除 patch，要還原到好幾個之前的 patch "
   ]
  },
  {
   "cell_type": "raw",
   "id": "24be7052",
   "metadata": {},
   "source": [
    "假如 git commit 鏈是\n",
    "\n",
    "A -> B -> C -> D \n",
    "\n",
    "如果想把 B，C，D 都給 revert，除了一個一個 revert 之外，還可以使用 range revert\n",
    "\n",
    "git revert B^..D \n",
    "\n",
    "這樣就把 B, C, D 都給 revert 了，變成：\n",
    "\n",
    "A -> B -> C -> D -> D'-> C' -> B'"
   ]
  },
  {
   "cell_type": "markdown",
   "id": "394a7587",
   "metadata": {},
   "source": [
    "# 用法"
   ]
  },
  {
   "cell_type": "raw",
   "id": "9223e617",
   "metadata": {},
   "source": [
    "git revert OLDER_COMMIT^..NEWER_COMMIT\n",
    "\n",
    "如果我們想把這三個 revert 不自動生成三個新的 commit，而是用一個 commit 完成，可以這樣：\n",
    "\n",
    "git revert -n OLDER_COMMIT^..NEWER_COMMIT\n",
    "git commit -m \"revert OLDER_COMMIT to NEWER_COMMIT\""
   ]
  },
  {
   "cell_type": "markdown",
   "id": "ec2e3612",
   "metadata": {},
   "source": [
    "### 範例01"
   ]
  },
  {
   "cell_type": "code",
   "execution_count": null,
   "id": "ab925f32",
   "metadata": {},
   "outputs": [],
   "source": [
    "echo 1 > 1.py\n",
    "git add -A\n",
    "git commit -m 'Add 1.py'"
   ]
  },
  {
   "cell_type": "code",
   "execution_count": null,
   "id": "3bc45708",
   "metadata": {},
   "outputs": [],
   "source": [
    "echo 2 > 2.py\n",
    "git add -A\n",
    "git commit -m 'Add 2.py'"
   ]
  },
  {
   "cell_type": "code",
   "execution_count": null,
   "id": "8f36a5bb",
   "metadata": {},
   "outputs": [],
   "source": [
    "echo 3 > 3.py\n",
    "git add -A\n",
    "git commit -m 'Add 3.py'"
   ]
  },
  {
   "cell_type": "code",
   "execution_count": null,
   "id": "751c39bd",
   "metadata": {},
   "outputs": [],
   "source": [
    "echo 4 > 4.py\n",
    "git add -A\n",
    "git commit -m 'Add 4.py'"
   ]
  },
  {
   "cell_type": "code",
   "execution_count": null,
   "id": "d9e4376e",
   "metadata": {},
   "outputs": [],
   "source": [
    "echo 5 > 5.py\n",
    "git add -A\n",
    "git commit -m 'Add 5.py'"
   ]
  },
  {
   "cell_type": "code",
   "execution_count": null,
   "id": "37483b47",
   "metadata": {},
   "outputs": [],
   "source": [
    "echo 6 > 6.py\n",
    "git add -A\n",
    "git commit -m 'Add 6.py'"
   ]
  },
  {
   "cell_type": "raw",
   "id": "5fa787d3",
   "metadata": {},
   "source": [
    "準備回到 3.py\n",
    "\n",
    "b455920 (HEAD -> master) Add 6.py\n",
    "a613b29 Add 5.py\n",
    "6db0b62 Add 4.py\n",
    "bd31b1c Add 3.py\n",
    "e1873aa Add 2.py\n",
    "ecc2e9f Add 1.py"
   ]
  },
  {
   "cell_type": "code",
   "execution_count": null,
   "id": "c9fc7a62",
   "metadata": {},
   "outputs": [],
   "source": [
    "git revert -n 6db0b62^..b455920\n",
    "git commit -m \"revert 6db0b62^..b455920\""
   ]
  },
  {
   "cell_type": "markdown",
   "id": "51f959ee",
   "metadata": {},
   "source": [
    "#### 最終結果"
   ]
  },
  {
   "cell_type": "raw",
   "id": "27b068f5",
   "metadata": {},
   "source": [
    "32d9640 (HEAD -> master) revert 6db0b62^..b455920\n",
    "b455920 Add 6.py\n",
    "a613b29 Add 5.py\n",
    "6db0b62 Add 4.py\n",
    "bd31b1c Add 3.py\n",
    "e1873aa Add 2.py\n",
    "ecc2e9f Add 1.py"
   ]
  }
 ],
 "metadata": {
  "kernelspec": {
   "display_name": "Python 3",
   "language": "python",
   "name": "python3"
  },
  "language_info": {
   "codemirror_mode": {
    "name": "ipython",
    "version": 3
   },
   "file_extension": ".py",
   "mimetype": "text/x-python",
   "name": "python",
   "nbconvert_exporter": "python",
   "pygments_lexer": "ipython3",
   "version": "3.8.10"
  }
 },
 "nbformat": 4,
 "nbformat_minor": 5
}
