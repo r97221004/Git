{
 "cells": [
  {
   "cell_type": "markdown",
   "id": "3a8997d2",
   "metadata": {},
   "source": [
    "## 檔案管理"
   ]
  },
  {
   "cell_type": "raw",
   "id": "e561255b",
   "metadata": {},
   "source": [
    "1.  git init \n",
    "2.  git status | 使用 git status 來檢視所有檔案的狀態\n",
    "3.  git add <file> | 告知 git，哪些是我們即將要提交（commit）的檔案\n",
    "4.  git commit | 這時候會進入 vim 的文字編輯模式，編輯提交訊息（commit message）\n",
    "#   第一行為 commit message 的標題（僅限一行）\n",
    "#   第二行保留空白\n",
    "#   第三行以後是 commit message 的內容（可略過不寫）\n",
    "#   編輯完成後，存檔離開，便可完成這次的提交\n",
    "5.  也可以 git commit -m 'commit 訊息'\n",
    "6.  git log | 使用 git log 檢視提交的歷史訊息\n",
    "7.  git show | 使用 git show 檢視 patch 的修改內容\n",
    "8.  git diff <file> | 查看 \"特定\" 被修改檔案的內容\n",
    "9.  git diff | 查看 \"全部\" 被修改檔案的內容\n",
    "10. git add -A | 加入全部的檔案\n",
    "11. git diff --cached | 來檢視 Changes to be committed 的修改內容\n",
    "#   git diff 只能檢視 Changes not staged for commit 區塊的修改內容\n",
    "12. git show <commit_id> | 來檢視之前提交的 patch 所修改的內容\n",
    "13. git 會自動忽略空資料夾\n",
    "14. git reset HEAD <file> | 可以將檔案還原到 \"未準備提交\" 前的狀態\n",
    "15  git reset HEAD | 還原 \"全部\" 的檔案狀態\n",
    "16. git reset --hard HEAD | 可以一次將 Changes not staged for commit 和 Changes to be committed 的 \n",
    "    區域清空\n",
    "17  .gitignore 範例 | 如果不清楚該把哪些檔案加到 .gitignore 的話，可以參考這個專案，他有大部份的專案類型\n",
    "    所用的 .gitignore 範例 https://github.com/github/gitignore\n",
    "18. git add -f <file> | 強制 add 被忽略的檔案"
   ]
  },
  {
   "cell_type": "markdown",
   "id": "30f7d443",
   "metadata": {},
   "source": [
    "## Patch 管理"
   ]
  },
  {
   "cell_type": "raw",
   "id": "eb3cc91f",
   "metadata": {},
   "source": [
    "1. git log --pretty=raw | 來顯示 parent 的資訊\n",
    "2. HEAD^ 或 HEAD~1 可以用來表示上一個 patch\n",
    "#  HEAD^^ 或 HEAD~2 可以用來表示上兩個 patch\n",
    "#  HEAD^^^ 或 HEAD~3 可以用來表示上三個 patch 依此類推...\n",
    "3. git show HEAD^^ | 例如我要看前兩個的 patch 所修改的內容\n",
    "4. git reset HEAD^ | 回到上一個 patch\n",
    "5. git reset --hard HEAD^ | 回到上一個 patch，並且強制清除修改的內容\n",
    "6. git reset --hard <commit id> | 直接 reset 成指定的 patch\n",
    "#  我們除了可以還原之先前的 patch 之外，我們也可以透過 git reset --hard <commit_id> 跳至我們最後一次 \n",
    "   commit 的 patch\n",
    "7. git reflog | 來查看 HEAD 的修改紀錄\n",
    "8. git log -g | 查看 reflog 的詳細內容"
   ]
  },
  {
   "cell_type": "markdown",
   "id": "16fb4767",
   "metadata": {},
   "source": [
    "## 修改 / 訂正 Patch"
   ]
  },
  {
   "cell_type": "markdown",
   "id": "a9b549e2",
   "metadata": {},
   "source": [
    "### 使用 git reset --soft HEAD^"
   ]
  },
  {
   "cell_type": "raw",
   "id": "d83058ae",
   "metadata": {},
   "source": [
    "1. touch P0; git add -A; git commit -m 'P0'\n",
    "2. touch P1; git add -A; git commit -m 'P1'\n",
    "3. touch P2; git add -A; git commit -m 'P4'\n",
    "4. git reset --soft HEAD^\n",
    "5. git commit -m 'P2'"
   ]
  },
  {
   "cell_type": "markdown",
   "id": "7f7c7c85",
   "metadata": {},
   "source": [
    "><img src=\".\\image\\16.png\"  style='height:253px; width:1200px'>"
   ]
  },
  {
   "cell_type": "markdown",
   "id": "93a48ec7",
   "metadata": {},
   "source": [
    "### 使用 git commit --amend 修改提交訊息"
   ]
  },
  {
   "cell_type": "raw",
   "id": "449afb19",
   "metadata": {},
   "source": [
    "1. git commit --amend | 我們使用 git commit --amend 直接修改提交訊息"
   ]
  },
  {
   "cell_type": "raw",
   "id": "f2495bc6",
   "metadata": {},
   "source": [
    "1. touch P0; git add -A; git commit -m 'P0'\n",
    "2. touch P1; git add -A; git commit -m 'P1'\n",
    "3. touch P2; git add -A; git commit -m 'P4'\n",
    "4. git commit --amend | 使用後會進入 vim 文字編輯模式。把標題改成 \"P2\" 然後存檔離開。"
   ]
  },
  {
   "cell_type": "markdown",
   "id": "5e7bac44",
   "metadata": {},
   "source": [
    "### 使用 git commit --amend 修改提交的內容"
   ]
  },
  {
   "cell_type": "raw",
   "id": "7a61bada",
   "metadata": {},
   "source": [
    "1. touch P0; git add -A; git commit -m 'P0'\n",
    "2. touch P1; git add -A; git commit -m 'P1'\n",
    "3. touch P2; git add -A; git commit -m 'P4'\n",
    "4. touch P3\n",
    "5. git add P3\n",
    "6. git commit --amend -m 'P2 與 P3'"
   ]
  },
  {
   "cell_type": "raw",
   "id": "63a54770",
   "metadata": {},
   "source": [
    "### 操作 git commit --amend 時要非常的小心"
   ]
  },
  {
   "cell_type": "markdown",
   "id": "75fdd6b9",
   "metadata": {},
   "source": [
    "## 移除單一個 Patch"
   ]
  },
  {
   "cell_type": "raw",
   "id": "7052915a",
   "metadata": {},
   "source": [
    "1. git cherry-pick <commit id> | 挑入 patch。"
   ]
  },
  {
   "cell_type": "raw",
   "id": "48652b70",
   "metadata": {},
   "source": [
    "1. touch P0; git add -A; git commit -m 'P0'\n",
    "2. touch P1; git add -A; git commit -m 'P1'\n",
    "3. touch P2; git add -A; git commit -m 'P2'\n",
    "4. touch P3; git add -A; git commit -m 'P3'\n",
    "5. touch P4; git add -A; git commit -m 'P4'\n",
    "6. touch P5; git add -A; git commit -m 'P5'\n",
    "#  目標把 P3 給移除\n",
    "7. git log --oneline\n",
    "8. git reset --hard <P2 commit id>\n",
    "9. git log --oneline\n",
    "10. git cherry-pick a32f393 | a32f393 是 P4 的 commit id # 注意 commit id 會變\n",
    "11. git cherry-pick d85c430 | d85c430 是 P5 的 commit id # 注意 commit id 會變"
   ]
  },
  {
   "cell_type": "markdown",
   "id": "97cc8ba5",
   "metadata": {},
   "source": [
    "## 延伸：調換 Patch 的順序"
   ]
  },
  {
   "cell_type": "raw",
   "id": "96146c66",
   "metadata": {},
   "source": [
    "12. git cherry-pick b52c4de | a32f393 是 P3 的 commit id\n",
    "# 最終 P0 -> P1 -> P2 -> P4' -> P5' -> P3'"
   ]
  },
  {
   "cell_type": "raw",
   "id": "5d1f8c3f",
   "metadata": {},
   "source": [
    "# 大部份我們在做 cherry-pick 的時候，只要每個 patch 的改動幅度不要太大 git 都可以幫我們順\n",
    "# 利接好，就像剛才我們範例那樣。但是 git 也會遇到無法判斷的時候，這就是所謂的版本衝突 Confilct。\n",
    "# 也就是說，兩個 patch 改動的內容實在是太相似了，以至於無法判斷該如何合併 code。\n",
    "# 這時候 git 會要求我們手動去解 Confilct。解 Confilct 常常是許多初學者的夢魘，看到 \n",
    "# Confilct 就整個人呆掉了。我們在後面的 \"Cherry-Pick 版本衝突\" 會再為大家介紹什麼是\n",
    "# Confilct，如何解 Confilct。以及如何降低 Confilct 發生的機會。"
   ]
  },
  {
   "cell_type": "markdown",
   "id": "c4adc597",
   "metadata": {},
   "source": [
    "## Rebase 互動模式"
   ]
  },
  {
   "cell_type": "raw",
   "id": "8ded2534",
   "metadata": {},
   "source": [
    "# git cherry-pick <commit id> 指令在操作少量的 patch 的時候非常實用，概念也很直覺。\n",
    "# 但是如果要一次操作多量的 patch 的時候，就要下非常多次指令，這樣就會很容易出錯。\n",
    "# 因此 git 提供一個基於 cherry-pick 之上，更高階的 git 指令 rebase。\n",
    "# 這個 git rebase 通常用來分支的問題（我們在之後的章節才會講到 git 的分支），\n",
    "# 不過 git rebase 有提供一個叫做「互動模式」的功能，可以讓我們很方便的處理多個 patch，\n",
    "# 讓我們可以輕鬆的抽掉單一個 patch 或變更 patch 的順序。"
   ]
  },
  {
   "cell_type": "raw",
   "id": "cc3f9efa",
   "metadata": {},
   "source": [
    "1. git rebase -i <after this commit> | 在 this commit 之後(這個不算)，啟動 rebase 互動模式  \n",
    "# 你可以隨意的重新排序\n",
    "# 他會由上而下的執行 Rebase TODO\n",
    "# 如果你把某一行刪掉或是註解掉，那個 patch 將會不見\n",
    "# 如果把 TODO 都清空或註解掉，那麼這次的 rebase 將會被放棄"
   ]
  },
  {
   "cell_type": "markdown",
   "id": "3bf96830",
   "metadata": {},
   "source": [
    "><img src=\".\\image\\17.png\"  style='height:500px; width:500px'>"
   ]
  },
  {
   "cell_type": "raw",
   "id": "e92cf086",
   "metadata": {},
   "source": [
    "# 把剛剛的範例改回來\n",
    "1. git rebase -i f2639 | 會到 vim 中修改，注意修改到的 commit id 都變了。"
   ]
  },
  {
   "cell_type": "markdown",
   "id": "0a946e37",
   "metadata": {},
   "source": [
    "><img src=\".\\image\\18.png\"  style='height:500px; width:500px'>"
   ]
  },
  {
   "cell_type": "markdown",
   "id": "863614c6",
   "metadata": {},
   "source": [
    "## Cherry-Pick 版本衝突"
   ]
  },
  {
   "cell_type": "raw",
   "id": "b1a13804",
   "metadata": {},
   "source": [
    "1. touch P0; git add -A; git commit -m 'P0'\n",
    "2. touch P1; git add -A; git commit -m 'P1'\n",
    "3. touch P2; git add -A; git commit -m 'P2'\n",
    "4. echo '11' >> P2; git add -A; git commit -m 'add 11'\n",
    "5. echo '22' >> P2; git add -A; git commit -m 'add 22'"
   ]
  },
  {
   "cell_type": "markdown",
   "id": "61f82dba",
   "metadata": {},
   "source": [
    "><img src=\".\\image\\19.png\"  style='height:500px; width:500px'>"
   ]
  },
  {
   "cell_type": "raw",
   "id": "51909468",
   "metadata": {},
   "source": [
    "# 目標把 add 11 與 add 22 互換 | 兩個都動到同一個檔案\n",
    "6. git reset --hard cd9f730\n",
    "7. git cherry-pick e0cb35\n",
    "8. git status\n",
    "9. code .\n",
    "10. git status\n",
    "11. git add -A\n",
    "12. git cherry-pick --continue\n",
    "13. git cherry-pick 02141\n",
    "14. code .\n",
    "15. git status\n",
    "16. git add -A\n",
    "17. git cherry-pick --continue"
   ]
  },
  {
   "cell_type": "raw",
   "id": "16d875a9",
   "metadata": {},
   "source": [
    "git cherry-pick --abort | 取消，並且回到 cherry-pick 前的狀態。"
   ]
  },
  {
   "cell_type": "raw",
   "id": "68f82bca",
   "metadata": {},
   "source": [
    "# 解 Conflict 真的是一件很累人的事情，萬一沒解好還會後遺症一大堆，\n",
    "# 所以最好的辦法就是，盡量避免發生衝突的機會。在一開始講解 patch 的基\n",
    "# 本觀念時，有說到每個 patch 其實就是其相對於 parent 的變化量。\n",
    "# 因此，我們只要確保變化量越少，就越不容易發生 conflict ，也越容易被 git 拆解、合併。"
   ]
  },
  {
   "cell_type": "markdown",
   "id": "a136927b",
   "metadata": {},
   "source": [
    "## Rebase 版本衝突"
   ]
  },
  {
   "cell_type": "raw",
   "id": "f8a8bed3",
   "metadata": {},
   "source": [
    "# 再把剛剛的東西改回來"
   ]
  },
  {
   "cell_type": "markdown",
   "id": "c5fcf4f7",
   "metadata": {},
   "source": [
    "><img src=\".\\image\\20.png\"  style='height:500px; width:500px'>"
   ]
  },
  {
   "cell_type": "raw",
   "id": "c16f2d43",
   "metadata": {},
   "source": [
    "1. git rebase -i cd9f7 | 進入 vim\n",
    "2. git status\n",
    "3. code .\n",
    "4. git add -A\n",
    "5. git rebase --continue\n",
    "6. git status\n",
    "7. code .\n",
    "8. git add -A\n",
    "9. git rebase --continue"
   ]
  },
  {
   "cell_type": "raw",
   "id": "bf3944d2",
   "metadata": {},
   "source": [
    "1. git rebase --skip | 跳過目前正在執行 Rebase TODO 的動作，並執行下一個動作\n",
    "2. git rebase --abort | 全部取消，並且回到 rebase 前的狀態"
   ]
  },
  {
   "cell_type": "markdown",
   "id": "b6af079a",
   "metadata": {},
   "source": [
    "## Revert Patch"
   ]
  },
  {
   "cell_type": "raw",
   "id": "93b98733",
   "metadata": {},
   "source": [
    "# 在 \"移除單一個 Patch\" 的時候，我們有學到如何移除一個 patch 或是調換 patch 的順序。\n",
    "# 必須使用 git reset --hard 回到特定的點上面，然後再用 git cherry-pick 把每個 patch 一個一個挑回來。\n",
    "# 或是我們也可以用 Rebase 互動模式這樣的高階的指令來達到相同的目的。\n",
    "# 但是很多時候，當我們發現之前某個 patch 有問題想要把它拿掉時，往往他的後面已經又上了 N 個 patch 了，\n",
    "# 如果我們只是為了要把這個 patch 拿掉，卻要重新 cherry-pick 後面 N 個 patch，\n",
    "# 感覺改動會非常大，發生錯誤的風險也很高，不是很符合經濟效益。\n",
    "# 那有沒有什麼方法是，可以不太動之前的 patch，又可以讓我們把特定的 patch 拿掉的方法呢？"
   ]
  },
  {
   "cell_type": "raw",
   "id": "07f60d4e",
   "metadata": {},
   "source": [
    "1. git revert <commit id> | 還原指定的 patch"
   ]
  },
  {
   "cell_type": "raw",
   "id": "0571da07",
   "metadata": {},
   "source": [
    "1. touch P0; git add -A; git commit -m 'P0'\n",
    "2. touch P1; git add -A; git commit -m 'P1'\n",
    "3. touch P2; git add -A; git commit -m 'P2'\n",
    "4. touch P3; git add -A; git commit -m 'P3'\n",
    "5. touch P4; git add -A; git commit -m 'P4'"
   ]
  },
  {
   "cell_type": "markdown",
   "id": "1b17ab56",
   "metadata": {},
   "source": [
    "><img src=\".\\image\\21.png\"  style='height:500px; width:500px'>"
   ]
  },
  {
   "cell_type": "raw",
   "id": "081230e9",
   "metadata": {},
   "source": [
    "6. git revert 391a083 | 會做 391a083 的相反操作，且進入 vim 模式。"
   ]
  },
  {
   "cell_type": "markdown",
   "id": "1946d184",
   "metadata": {},
   "source": [
    "## Revert 版本衝突"
   ]
  },
  {
   "cell_type": "raw",
   "id": "a7ba955e",
   "metadata": {},
   "source": [
    "1. git revert --continue | 告知 git 已經解完衝突\n",
    "2. git revert --abort | 來要放棄這次 revert"
   ]
  },
  {
   "cell_type": "raw",
   "id": "c97c3606",
   "metadata": {},
   "source": [
    "1. touch P0; git add -A; git commit -m 'P0'\n",
    "2. echo '123' >> P0; git add -A; git commit -m 'add 123'\n",
    "3. echo '456' >> P0; git add -A; git commit -m 'add 456'"
   ]
  },
  {
   "cell_type": "markdown",
   "id": "3d5d0864",
   "metadata": {},
   "source": [
    "><img src=\".\\image\\22.png\"  style='height:500px; width:500px'>"
   ]
  },
  {
   "cell_type": "raw",
   "id": "3e24a460",
   "metadata": {},
   "source": [
    "4. git revert 0a49a3\n",
    "5. git status\n",
    "6. code .\n",
    "7. git status\n",
    "8. git add -A\n",
    "9. git revert --continue"
   ]
  }
 ],
 "metadata": {
  "kernelspec": {
   "display_name": "Python 3",
   "language": "python",
   "name": "python3"
  },
  "language_info": {
   "codemirror_mode": {
    "name": "ipython",
    "version": 3
   },
   "file_extension": ".py",
   "mimetype": "text/x-python",
   "name": "python",
   "nbconvert_exporter": "python",
   "pygments_lexer": "ipython3",
   "version": "3.8.10"
  }
 },
 "nbformat": 4,
 "nbformat_minor": 5
}
