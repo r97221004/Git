{
 "cells": [
  {
   "cell_type": "markdown",
   "id": "775f41eb",
   "metadata": {},
   "source": [
    "### 擁抱 Command Line 遠離 IDE 圖形介面"
   ]
  },
  {
   "cell_type": "markdown",
   "id": "b9843400",
   "metadata": {},
   "source": [
    "### 寫好每一個 Commit Message"
   ]
  },
  {
   "cell_type": "markdown",
   "id": "dc5bc885",
   "metadata": {},
   "source": [
    "### 請使用 .gitignore"
   ]
  },
  {
   "cell_type": "markdown",
   "id": "30f0f80a",
   "metadata": {},
   "source": [
    "### 基於分支和fork的開發模式"
   ]
  },
  {
   "cell_type": "markdown",
   "id": "67950596",
   "metadata": {},
   "source": [
    "### release 分支和 tag"
   ]
  },
  {
   "cell_type": "markdown",
   "id": "55e62135",
   "metadata": {},
   "source": [
    "### 如何修改最後一次 Commit"
   ]
  },
  {
   "cell_type": "raw",
   "id": "85335a3b",
   "metadata": {},
   "source": [
    "1. git commit --amend | 不建議在 master 上使用\n",
    "2. git reset --soft HEAD^ | 不建議在 master 上使用"
   ]
  },
  {
   "cell_type": "markdown",
   "id": "1ccf8272",
   "metadata": {},
   "source": [
    "### 如何修改最後N次 Commit"
   ]
  },
  {
   "cell_type": "raw",
   "id": "b6cd3889",
   "metadata": {},
   "source": [
    "1. git reset | 不建議在 master 上使用\n",
    "2. git reset --soft  | 不建議在 master 上使用\n",
    "3. git reset --hard  | 不建議在 master 上使用"
   ]
  },
  {
   "cell_type": "markdown",
   "id": "f62c3167",
   "metadata": {},
   "source": [
    "### Git stash 的使用"
   ]
  },
  {
   "cell_type": "raw",
   "id": "ad3227f9",
   "metadata": {},
   "source": [
    "1. git stash save\n",
    "2. git stash pop\n",
    "3. git stath list"
   ]
  },
  {
   "cell_type": "markdown",
   "id": "c2979205",
   "metadata": {},
   "source": [
    "### git worktree 命令"
   ]
  }
 ],
 "metadata": {
  "kernelspec": {
   "display_name": "Python 3",
   "language": "python",
   "name": "python3"
  },
  "language_info": {
   "codemirror_mode": {
    "name": "ipython",
    "version": 3
   },
   "file_extension": ".py",
   "mimetype": "text/x-python",
   "name": "python",
   "nbconvert_exporter": "python",
   "pygments_lexer": "ipython3",
   "version": "3.8.10"
  }
 },
 "nbformat": 4,
 "nbformat_minor": 5
}
