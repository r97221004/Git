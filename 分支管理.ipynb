{
 "cells": [
  {
   "cell_type": "markdown",
   "id": "73198d23",
   "metadata": {},
   "source": [
    "## 查看、建立、刪除分支"
   ]
  },
  {
   "cell_type": "raw",
   "id": "df60ae22",
   "metadata": {},
   "source": [
    "1. git branch | 使用 git branch 查看所有的分支 \n",
    "2. gitk --all & | 在背景執行 gitk\n",
    "3. git branch <new branch name> | 建立新的分支\n",
    "4. git checkout <branch name> | 切換分支\n",
    "5. git checkout -b <new branch name> | 建立新的 branch 並且切換過去\n",
    "6. git branch -f <branch name> <commit id> | 在指定的 patch 上建立 branch（若 branch 已經存在，就會把原來的切換過去）\n",
    "7. git branch -d <branch name> | 刪除分支，會有提示，建議使用。\n",
    "8. git branch -D <branch name> | 刪除分支，不會有提示，不建議使用。\n",
    "   # 我們不能刪除目前所在的分支，git 會顯示錯誤的訊息。\n",
    "9. git log <branch name> --oneline | 查看分支的歷史資訊。\n",
    "10. git checkout -b <new branch name> <commit id> | 在指定的 patch 上建立新的 branch 並且切換過去"
   ]
  },
  {
   "cell_type": "markdown",
   "id": "e6ce7b2a",
   "metadata": {},
   "source": [
    "## Fast Forward Merge"
   ]
  },
  {
   "cell_type": "raw",
   "id": "43e3baf3",
   "metadata": {},
   "source": [
    "1. touch P0; git add P0; git commit -m 'P0'\n",
    "2  touch P1; git add P1; git commit -m 'P1'\n",
    "3. touch P2; git add P2; git commit -m 'P2'\n",
    "4. git checkout -b BugFix \n",
    "5. git branch\n",
    "6. touch b0; git add b0; git commit -m 'b0'\n",
    "7. touch b1; git add b1; git commit -m 'b1'\n",
    "8. git checkout master  | 要把分支 Fast Forward 回來 master時，要先回到 master，且 master 的 patch 不能變動。\n",
    "9. git merge BugFix"
   ]
  },
  {
   "cell_type": "markdown",
   "id": "88f41a53",
   "metadata": {},
   "source": [
    "><img src=\".\\image\\1.png\"  style='height:500px; width:500px'>"
   ]
  },
  {
   "cell_type": "raw",
   "id": "2f7391c7",
   "metadata": {},
   "source": [
    "10. git reset ORIG_HEAD | 因為合併很容易出錯，可用這種方式回滾"
   ]
  },
  {
   "cell_type": "markdown",
   "id": "fa9f9c4d",
   "metadata": {},
   "source": [
    "><img src=\".\\image\\2.png\"  style='height:500px; width:500px'>"
   ]
  },
  {
   "cell_type": "raw",
   "id": "432e1a8c",
   "metadata": {},
   "source": [
    "1. touch P0; git add P0; git commit -m 'P0'\n",
    "2  touch P1; git add P1; git commit -m 'P1'\n",
    "3. touch P2; git add P2; git commit -m 'P2'\n",
    "4. git checkout -b BugFix \n",
    "5. git branch\n",
    "6. touch b0; git add b0; git commit -m 'b0'\n",
    "7. touch b1; git add b1; git commit -m 'b1'\n",
    "8. git checkout master  | 要把分支 Fast Forward 回來 master時，要先回到 master，且 master 的 patch 不能變動。\n",
    "9. git merge --no-ff BugFix | 強制產生 Merge Patch"
   ]
  },
  {
   "cell_type": "markdown",
   "id": "a2d7781b",
   "metadata": {},
   "source": [
    "><img src=\".\\image\\3.png\"  style='height:500px; width:500px'>"
   ]
  },
  {
   "cell_type": "raw",
   "id": "67973747",
   "metadata": {},
   "source": [
    "git show --pretty=raw | 使用 git show --pretty=raw 可以看出，Merge Patch 有兩個 parents，分別是 P8 跟 f3"
   ]
  },
  {
   "cell_type": "markdown",
   "id": "56fed861",
   "metadata": {},
   "source": [
    "## 3 Way Merge"
   ]
  },
  {
   "cell_type": "raw",
   "id": "79ee6fc7",
   "metadata": {},
   "source": [
    "1. touch P0; git add P0; git commit -m 'P0'\n",
    "2  touch P1; git add P1; git commit -m 'P1'\n",
    "3. touch P2; git add P2; git commit -m 'P2'\n",
    "4. git checkout -b BugFix \n",
    "5. git branch\n",
    "6. touch b0; git add b0; git commit -m 'b0'\n",
    "7. touch b1; git add b1; git commit -m 'b1'\n",
    "8. git checkout master\n",
    "9. touch P3; git add P3; git commit -m 'P3'  | 原本的 master 分支有產生新的 patch。\n",
    "10. touch P4; git add P4; git commit -m 'P4'\n",
    "11. git checkout master\n",
    "12. git merge BugFix | 有 Merge Patch，且這個例子兩個分支沒有修改到同一個檔案。"
   ]
  },
  {
   "cell_type": "markdown",
   "id": "e20689bb",
   "metadata": {},
   "source": [
    "><img src=\".\\image\\4.png\"  style='height:500px; width:500px'>"
   ]
  },
  {
   "cell_type": "raw",
   "id": "1d484c85",
   "metadata": {},
   "source": [
    "git show --pretty=raw | 使用 git show --pretty=raw 可以看出，Merge Patch 有兩個 parents。"
   ]
  },
  {
   "cell_type": "raw",
   "id": "2387a784",
   "metadata": {},
   "source": [
    "1. 合併完成後會有 Merge Patch，用來記錄原本兩個分支的 commit id\n",
    "2. 從 git log 看不出原本兩個分支的順序，會被混在一起並用提交時間來排序\n",
    "3. 不會修改原始的 commit id"
   ]
  },
  {
   "cell_type": "markdown",
   "id": "342a5c68",
   "metadata": {},
   "source": [
    "## 3 Way Merge with Conflict"
   ]
  },
  {
   "cell_type": "raw",
   "id": "c8517267",
   "metadata": {},
   "source": [
    "1. echo 'test' > test.txt\n",
    "2. git add test.txt\n",
    "3. git commit -m '1st commit'\n",
    "4. git checkout -b BugFix\n",
    "5. vim test.txt | 改成多一列 add from BugFix\n",
    "6. git add test.txt\n",
    "7. git commit -m '2nd commit'\n",
    "8. git checkout master\n",
    "9. vim test.txt | 改成多一列 add from master\n",
    "10. git add test.txt\n",
    "11. git commit -m '3rd commit'\n",
    "12. git merge BugFix | 出現 Merge conflict in test.txt. Automatic merge failed; fix conflicts and then commit the result.\n",
    "13. get status\n",
    "14. cat test.txt\n",
    "15. code . | 選擇要哪個選項，記得要存檔。\n",
    "16. git status\n",
    "17. git add test.txt\n",
    "18. git status | All conflicts fixed but you are still merging.(use \"git commit\" to conclude merge)\n",
    "19. git commit | 不用再加訊息\n",
    "20. git log | 有兩個 parent \n",
    "21. git branch -D BugFix | 圖形不會變，只是 BugFix的標籤沒了。"
   ]
  },
  {
   "cell_type": "markdown",
   "id": "dab8482e",
   "metadata": {},
   "source": [
    "><img src=\".\\image\\5.png\"  style='height:500px; width:500px'>"
   ]
  },
  {
   "cell_type": "markdown",
   "id": "f5e21ddb",
   "metadata": {},
   "source": [
    "## Git Rebase"
   ]
  },
  {
   "cell_type": "raw",
   "id": "2aeb0ae9",
   "metadata": {},
   "source": [
    "# 在 master 分支有了新的 patch，在另一個分支也有新的 patch，如果想用 Fast Forward，要先 git rebase\n",
    "# 這操作會改變 commit id，如果已經把分支 push 到遠端，使用時要非常小心，建議不要使用。\n",
    "# 是有可能發生衝突的喔!"
   ]
  },
  {
   "cell_type": "raw",
   "id": "4676251b",
   "metadata": {},
   "source": [
    "1. touch test1.txt; git add test1.txt; git commit -m 'add test1.txt'\n",
    "2. git checkout -b BugFix\n",
    "3. touch test2.txt; git add test2.txt; git commit -m 'add test2.txt'\n",
    "4. git checkout master\n",
    "5. touch test3.txt; git add test3.txt; git commit -m 'add test3.txt'\n",
    "# 想要有 Fast Forward 的效果\n",
    "6. git checkout BugFix | 要先轉換到 BugFix\n",
    "7. git status\n",
    "8. git rebase master | 注意 commit id 會改變\n",
    "9. git status\n",
    "10 git checkout master\n",
    "11 git merge BugFix\n",
    "12 git log "
   ]
  },
  {
   "cell_type": "markdown",
   "id": "d5c335ca",
   "metadata": {},
   "source": [
    "## 使用 git cherry-pick <commit 1> <commit 2> ... 一次接多個 patch"
   ]
  },
  {
   "cell_type": "raw",
   "id": "f42dd26c",
   "metadata": {},
   "source": [
    "# 在 master 分支有了新的 patch，在另一個分支也有新的 patch，如果想用 Fast Forward，也可以使用 cherry-pick\n",
    "# 等於 git rebase 的手動版"
   ]
  },
  {
   "cell_type": "raw",
   "id": "920ad97d",
   "metadata": {},
   "source": [
    "1. touch P0; git add P0; git commit -m 'P0'\n",
    "2  touch P1; git add P1; git commit -m 'P1'\n",
    "3. touch P2; git add P2; git commit -m 'P2'\n",
    "4. git checkout -b BugFix\n",
    "5. touch b0; git add b0; git commit -m 'b0'\n",
    "6. touch b1; git add b1; git commit -m 'b1'\n",
    "7. git checkout master\n",
    "8. touch P3; git add P3; git commit -m 'P3'\n",
    "9. touch P4; git add P4; git commit -m 'P4'\n",
    "10. git checkout master | 確定回到 master\n",
    "11 git cherry-pick b0的id b1的id  | 如果分支的 patch 太多會非常麻煩"
   ]
  },
  {
   "cell_type": "raw",
   "id": "508e6b02",
   "metadata": {},
   "source": [
    "rebase 其實就是 cherry-pick 的高階指令。當一次 rebase 多個 patch 的時候，其實就是連續做 cherry-pick 的動作\n",
    "所以有可能會連續發生 conflict，當這種情況發生的時候，我寧可手動 cherry-pick。\n",
    "每挑一個 patch 就跑一次測試程式，確保程式可以正常運作再挑下一個 patch。"
   ]
  },
  {
   "cell_type": "raw",
   "id": "d50dd212",
   "metadata": {},
   "source": [
    "rebase 會去修改 \"被 rebase 的分支\" 的內容，當下完 rebase 之後，才發現自己接錯了！\n",
    "這時候就必須去 reflog 去找 rebase 前的 commit id。\n",
    "或者可以用 git reset --hard ORIG_HEAD 回到 rebase 前的 HEAD。\n",
    "雖然都有補救方案，不過還是建議使用 rebase 前先開一個 backup 的分支以免發生意外。"
   ]
  }
 ],
 "metadata": {
  "kernelspec": {
   "display_name": "Python 3",
   "language": "python",
   "name": "python3"
  },
  "language_info": {
   "codemirror_mode": {
    "name": "ipython",
    "version": 3
   },
   "file_extension": ".py",
   "mimetype": "text/x-python",
   "name": "python",
   "nbconvert_exporter": "python",
   "pygments_lexer": "ipython3",
   "version": "3.8.10"
  }
 },
 "nbformat": 4,
 "nbformat_minor": 5
}
