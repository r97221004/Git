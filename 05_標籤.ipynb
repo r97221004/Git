{
 "cells": [
  {
   "cell_type": "raw",
   "id": "bde4ebc8",
   "metadata": {},
   "source": [
    "# Tag 有分兩種，一種是「lightweight tags」這種可以視為某個 patch 的「別名」，\n",
    "# 另外一種是「annotated tags」除了有輕量 tag 的功能之外，還可以寫 tag message\n",
    "# 。他會紀錄發布者的名稱、日期等等資訊，比較適合正式 release 使用。"
   ]
  },
  {
   "cell_type": "raw",
   "id": "90f63f1a",
   "metadata": {},
   "source": [
    "1.  git tag <tag name> <commit id> | 新增 lightweight tag\n",
    "#   如果不加參數 <commit id>，那麼 git 會 tag 目前的 patch（HEAD）\n",
    "2.  git tag | 查看所有的 tags\n",
    "3.  git tag -a <tag name> <commit id> | 新增 annotated tag\n",
    "#   如果不加參數 <commit id>，那麼 git 會 tag 目前的 patch（HEAD）\n",
    "4.  git tag -a <tag name> <commit id> -m <message> | 新增 annotated tag 以及 message\n",
    "#   新增 annotated tag 的時候，後面可以加上多個 -m <message> 直接輸入 tag message，跳過文字編輯模式\n",
    "5.  git push <remote name> <tag name> | 指定上傳的標籤\n",
    "6.  git push <remote name> --tags | 一次上傳所有的標籤\n",
    "7.  git fetch origin | 也會把遠程的標籤拉回來\n",
    "7.  git tag -d <tag name> | 刪除本機端的標籤\n",
    "8.  git push <remote name> :<tag name> | 刪除遠端的標籤\n",
    "#   等同於 git push <remote name> -d <tag name>\n",
    "9.  git tag -a <tag name> <tag name>^{} -f | 更新 annotated tag 的訊息\n",
    "10. git push -f <remote name> <tag name> | 強制更新 remote 的 tag\n",
    "#   我們剛才更新了 1.0.1 的訊息，現在要重新上傳到 server，但是會失敗，原因是 server 上已經有 1.0.1 的 tag 了。"
   ]
  },
  {
   "cell_type": "raw",
   "id": "d04b8ab9",
   "metadata": {},
   "source": [
    "1. touch P0; git add P0; git commit -m 'P0'\n",
    "2  touch P1; git add P1; git commit -m 'P1'\n",
    "3. touch P2; git add P2; git commit -m 'P2'\n",
    "4. touch P3; git add P3; git commit -m 'P3'\n",
    "5  touch P4; git add P4; git commit -m 'P4'\n",
    "6. touch P5; git add P5; git commit -m 'P5'"
   ]
  },
  {
   "cell_type": "markdown",
   "id": "fa9c75ee",
   "metadata": {},
   "source": [
    "><img src=\".\\image\\23.png\"  style='height:500px; width:500px'>"
   ]
  },
  {
   "cell_type": "raw",
   "id": "e397a097",
   "metadata": {},
   "source": [
    "7.  git tag v1.0.0 b0b04ac | P2 = b0b04ac\n",
    "8.  git tag\n",
    "9   git log --oneline\n",
    "10. git show v1.0.0\n",
    "11. git tag -a v1.0.1 71176 | 按下 enter 後，會進入文字編輯模式，要求輸入 tag message\n",
    "12. git show v1.0.1"
   ]
  },
  {
   "cell_type": "markdown",
   "id": "5c5c2deb",
   "metadata": {},
   "source": [
    "><img src=\".\\image\\24.png\"  style='height:500px; width:500px'>"
   ]
  },
  {
   "cell_type": "raw",
   "id": "7af1c4e1",
   "metadata": {},
   "source": [
    "12. git remote add origin git@github.com:r97221004/demo.git\n",
    "13. git push -u origin master\n",
    "14  git push origin v1.0.0"
   ]
  }
 ],
 "metadata": {
  "kernelspec": {
   "display_name": "Python 3",
   "language": "python",
   "name": "python3"
  },
  "language_info": {
   "codemirror_mode": {
    "name": "ipython",
    "version": 3
   },
   "file_extension": ".py",
   "mimetype": "text/x-python",
   "name": "python",
   "nbconvert_exporter": "python",
   "pygments_lexer": "ipython3",
   "version": "3.8.10"
  }
 },
 "nbformat": 4,
 "nbformat_minor": 5
}
